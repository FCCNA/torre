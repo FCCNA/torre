{
 "cells": [
  {
   "cell_type": "code",
   "execution_count": 1,
   "metadata": {},
   "outputs": [],
   "source": [
    "import numpy as np\n",
    "import matplotlib.pyplot as plt\n",
    "import math\n",
    "import random"
   ]
  },
  {
   "cell_type": "code",
   "execution_count": 2,
   "metadata": {},
   "outputs": [],
   "source": [
    "def cosm_dir(n):\n",
    "    return np.arccos((1-np.random.rand(n))**(1/3)), 2*np.pi*np.random.rand(n)"
   ]
  },
  {
   "cell_type": "code",
   "execution_count": 3,
   "metadata": {},
   "outputs": [],
   "source": [
    "n = 50000\n",
    "\n",
    "th, ph = cosm_dir(n)\n",
    "st, ct = np.sin(th), np.cos(th)\n",
    "sp, cp = np.sin(ph), np.cos(ph)\n",
    "us, vs, ws = st*cp, st*sp, ct"
   ]
  },
  {
   "cell_type": "code",
   "execution_count": 4,
   "metadata": {},
   "outputs": [],
   "source": [
    "# piano bottom\n",
    "\n",
    "plane_h0 = 0\n",
    "plane_w0 = 1\n",
    "plane_l0 = 1\n",
    "\n",
    "x0s = np.random.rand(n)*plane_w0-plane_w0/2\n",
    "y0s = np.random.rand(n)*plane_l0-plane_l0/2\n",
    "z0s = np.full(n, plane_h0)"
   ]
  },
  {
   "cell_type": "code",
   "execution_count": 5,
   "metadata": {},
   "outputs": [],
   "source": [
    "# piano top\n",
    "\n",
    "plane_h1 = 3\n",
    "plane_w1 = 1\n",
    "plane_l1 = 1\n",
    "\n",
    "x1s = x0s + plane_h1*us/ws\n",
    "y1s = y0s + plane_h1*vs/ws\n",
    "z1s = np.full(n,plane_h1)\n",
    "\n",
    "hits1 = (-plane_w1/2 < x1s) & (x1s < plane_w1/2) & (-plane_l1/2 < y1s) & (y1s < plane_l1/2)"
   ]
  },
  {
   "cell_type": "code",
   "execution_count": 6,
   "metadata": {},
   "outputs": [],
   "source": [
    "# piano DUT\n",
    "\n",
    "plane_h2 = 0.5\n",
    "plane_w2 = 0.1\n",
    "plane_l2 = 0.1\n",
    "\n",
    "x2s = x0s + plane_h2*us/ws\n",
    "y2s = y0s + plane_h2*vs/ws\n",
    "z2s = np.full(n,plane_h2)\n",
    "\n",
    "hits2= (-plane_w2/2 < x2s) & (x2s < plane_w2/2) & (-plane_l2/2 < y2s) & (y2s < plane_l2/2)"
   ]
  },
  {
   "cell_type": "code",
   "execution_count": 8,
   "metadata": {},
   "outputs": [],
   "source": [
    "hits1and2 = hits1*hits2"
   ]
  },
  {
   "cell_type": "code",
   "execution_count": 16,
   "metadata": {},
   "outputs": [
    {
     "name": "stdout",
     "output_type": "stream",
     "text": [
      "traccie in accettanza camere: 2467\n",
      "\n",
      "traccie in accettanza camere e DUT: 38 +/- 6.2 \n",
      "\n",
      "frazione traccie in accettanza camere e DUT: (1.54 +/- 0.25) %\n"
     ]
    }
   ],
   "source": [
    "na=len(hits1[hits1==True])\n",
    "nadut=len(hits1and2[hits1and2==True])\n",
    "nadut_err=np.sqrt(nadut)\n",
    "print(f'traccie in accettanza camere: {na}\\n')\n",
    "print(f'traccie in accettanza camere e DUT: {nadut} +/- {nadut_err:0.1f} \\n')\n",
    "print(f'frazione traccie in accettanza camere e DUT: ({nadut/na*100:.2f} +/- {nadut_err/na*100:.2f}) %')\n"
   ]
  },
  {
   "cell_type": "code",
   "execution_count": null,
   "metadata": {},
   "outputs": [],
   "source": []
  },
  {
   "cell_type": "code",
   "execution_count": null,
   "metadata": {},
   "outputs": [],
   "source": []
  },
  {
   "cell_type": "code",
   "execution_count": 17,
   "metadata": {},
   "outputs": [
    {
     "data": {
      "application/vnd.jupyter.widget-view+json": {
       "model_id": "155ce84e4d5b45b584d759e23d637a47",
       "version_major": 2,
       "version_minor": 0
      },
      "text/plain": [
       "Canvas(toolbar=Toolbar(toolitems=[('Home', 'Reset original view', 'home', 'home'), ('Back', 'Back to previous …"
      ]
     },
     "metadata": {},
     "output_type": "display_data"
    }
   ],
   "source": [
    "#%matplotlib notebook\n",
    "%matplotlib widget\n",
    "\n",
    "import mpld3\n",
    "\n",
    "import mpl_toolkits.mplot3d as a3\n",
    "fig = plt.figure(figsize=(6,6),dpi=100)\n",
    "ax = fig.add_subplot(111, projection='3d')\n",
    "ax.view_init(20, 20)\n",
    "\n",
    "nmax = n\n",
    "x0max, y0max, z0max = x0s[:nmax], y0s[:nmax], z0s[:nmax]\n",
    "x1max, y1max, z1max = x1s[:nmax], y1s[:nmax], z1s[:nmax]\n",
    "x2max, y2max, z2max = x2s[:nmax], y2s[:nmax], z2s[:nmax]\n",
    "umax, vmax, wmax = us[:nmax], vs[:nmax], ws[:nmax]\n",
    "hitmax1 = hits1[:nmax]\n",
    "hitmax2 = hits2[:nmax]\n",
    "hitmax1and2 = hits1and2[:nmax]\n",
    "#colors = ['red' if hit else 'cornflowerblue' for hit in hitmax1]\n",
    "\n",
    "#ax.quiver(x0max, y0max, z0max, umax, vmax, wmax, length=2, arrow_length_ratio=0, normalize=True, color=colors, alpha=0.4)\n",
    "#ax.quiver(x0max[hitmax1], y0max[hitmax1], z0max[hitmax1], umax[hitmax1], vmax[hitmax1], wmax[hitmax1], length=2, arrow_length_ratio=0, normalize=True, color='green',  alpha=0.4)\n",
    "ax.quiver(x0max[hitmax1*hitmax2], y0max[hitmax1*hitmax2], z0max[hitmax1*hitmax2], umax[hitmax1*hitmax2], vmax[hitmax1*hitmax2], wmax[hitmax1*hitmax2], length=plane_h1, arrow_length_ratio=0, normalize=True, color='red',  alpha=0.4)\n",
    "\n",
    "#ax.scatter(x0max[hitmax1], y0max[hitmax1], z0max[hitmax1], s=1, color='green')\n",
    "#ax.scatter(x1max[hitmax1], y1max[hitmax1], z1max[hitmax1], s=1, color='green')\n",
    "\n",
    "ax.scatter(x0max[hitmax1and2], y0max[hitmax1and2], z0max[hitmax1and2], s=2, color='red')\n",
    "ax.scatter(x1max[hitmax1and2], y1max[hitmax1and2], z1max[hitmax1and2], s=2, color='red')\n",
    "\n",
    "ax.scatter(x2max[hitmax1and2], y2max[hitmax1and2], z2max[hitmax1and2], s=4, color='red')\n",
    "\n",
    "#ax.set_xlim3d(np.min([x0max, x1max]),np.max([x0max, x1max]))\n",
    "#ax.set_ylim3d(np.min([y0max, y1max]),np.max([y0max, y1max]))\n",
    "#ax.set_zlim3d(0,1)\n",
    "\n",
    "plane_vtx_0=np.array([[-plane_w0/2,-plane_l0/2,plane_h0], [plane_w0/2,-plane_l0/2,plane_h0], [plane_w0/2,plane_l0/2,plane_h0], [-plane_w0/2,plane_l0/2,plane_h0]])\n",
    "plane0 = a3.art3d.Poly3DCollection([plane_vtx_0])\n",
    "plane0.set_color('#0000ff20')\n",
    "plane0.set_edgecolor('#0000ff')\n",
    "ax.add_collection3d(plane0)\n",
    "\n",
    "plane_vtx_1=np.array([[-plane_w1/2,-plane_l1/2,plane_h1], [plane_w1/2,-plane_l1/2,plane_h1], [plane_w1/2,plane_l1/2,plane_h1], [-plane_w1/2,plane_l1/2,plane_h1]])\n",
    "plane1 = a3.art3d.Poly3DCollection([plane_vtx_1])\n",
    "plane1.set_color('#0000ff20')\n",
    "plane1.set_edgecolor('#0000ff')\n",
    "ax.add_collection3d(plane1)\n",
    "\n",
    "plane_vtx_2=np.array([[-plane_w2/2,-plane_l2/2,plane_h2], [plane_w2/2,-plane_l2/2,plane_h2], [plane_w2/2,plane_l2/2,plane_h2], [-plane_w2/2,plane_l2/2,plane_h2]])\n",
    "plane2 = a3.art3d.Poly3DCollection([plane_vtx_2])\n",
    "plane2.set_color('#0000ff20')\n",
    "plane2.set_edgecolor('#0000ff')\n",
    "ax.add_collection3d(plane2)\n",
    "\n",
    "plt.show()"
   ]
  },
  {
   "cell_type": "code",
   "execution_count": 189,
   "metadata": {},
   "outputs": [
    {
     "data": {
      "image/png": "[encoded data removed]",
      "text/plain": [
       "<Figure size 600x400 with 1 Axes>"
      ]
     },
     "metadata": {
      "needs_background": "light"
     },
     "output_type": "display_data"
    }
   ],
   "source": [
    "%matplotlib inline\n",
    "plt.figure(figsize=(6,4),dpi=100)\n",
    "theta_range=[0,math.pi/2]\n",
    "plt.hist(th[hits1],density=False,bins=50,range=theta_range, alpha=0.5)\n",
    "plt.hist(th[hits1and2],density=False,bins=50,range=theta_range, alpha=0.5)\n",
    "plt.xlabel(r'$\\theta$')\n",
    "plt.ylabel(r'$f(\\theta)$')\n",
    "plt.show()"
   ]
  },
  {
   "cell_type": "code",
   "execution_count": null,
   "metadata": {},
   "outputs": [],
   "source": []
  }
 ],
 "metadata": {
  "kernelspec": {
   "display_name": "Python 3 (ipykernel)",
   "language": "python",
   "name": "python3"
  },
  "language_info": {
   "codemirror_mode": {
    "name": "ipython",
    "version": 3
   },
   "file_extension": ".py",
   "mimetype": "text/x-python",
   "name": "python",
   "nbconvert_exporter": "python",
   "pygments_lexer": "ipython3",
   "version": "3.9.7"
  }
 },
 "nbformat": 4,
 "nbformat_minor": 4
}
